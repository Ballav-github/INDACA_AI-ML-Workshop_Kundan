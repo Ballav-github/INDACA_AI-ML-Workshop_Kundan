{
 "cells": [
  {
   "cell_type": "markdown",
   "id": "25dd7c7a-0f88-4fe3-a03d-6a6fff22ab51",
   "metadata": {},
   "source": [
    "#                               INDACA 5 WEEK AI & ML PROGRAM"
   ]
  },
  {
   "cell_type": "markdown",
   "id": "1ca39ca9-ef6b-43a3-bbec-71c3eb2fb39d",
   "metadata": {},
   "source": [
    "## --------- WEEK 2 ASSIGNMENT ---------"
   ]
  },
  {
   "cell_type": "markdown",
   "id": "23cb0e6f-e03b-46e3-be94-ebcdd440e7f3",
   "metadata": {},
   "source": [
    "## A. Datatypes"
   ]
  },
  {
   "cell_type": "markdown",
   "id": "4f0bbaaf-1c71-42fc-94d3-027c6babd240",
   "metadata": {},
   "source": [
    "### 1. Write a Python program to sum all the items in a list"
   ]
  },
  {
   "cell_type": "code",
   "execution_count": 8,
   "id": "bd6ed45f-604a-47d1-8474-b5b71aca8411",
   "metadata": {},
   "outputs": [
    {
     "name": "stdout",
     "output_type": "stream",
     "text": [
      "The Sum of all components in the given list is: 95\n"
     ]
    }
   ],
   "source": [
    "total = 0\n",
    "list = [10, 15, 20, 30, 20]\n",
    "for comp in range(0, len(list)):\n",
    "    total = total + list[comp]\n",
    "print(\"The Sum of all components in the given list is:\", total)"
   ]
  },
  {
   "cell_type": "markdown",
   "id": "217abbc2-e53c-46c6-9a19-d5506591507d",
   "metadata": {},
   "source": [
    "### 2. Write a Python program to multiplies all the items in a list"
   ]
  },
  {
   "cell_type": "code",
   "execution_count": 9,
   "id": "742f1fd5-441b-4a06-92e7-da07c003edaa",
   "metadata": {},
   "outputs": [
    {
     "name": "stdout",
     "output_type": "stream",
     "text": [
      "The result of list1 is: 6\n",
      "The result of list2 is: 24\n"
     ]
    }
   ],
   "source": [
    "import numpy\n",
    "list1 = [1, 2, 3]\n",
    "list2 = [3, 2, 4]\n",
    "result1 = numpy.prod(list1)\n",
    "result2 = numpy.prod(list2)\n",
    "print(\"The result of list1 is:\", result1)\n",
    "print(\"The result of list2 is:\", result2)"
   ]
  },
  {
   "cell_type": "markdown",
   "id": "d9b896d0-569d-445b-bc6c-56e21df301ae",
   "metadata": {},
   "source": [
    "### 3. Write a Python program to get the largest number from a list"
   ]
  },
  {
   "cell_type": "code",
   "execution_count": 15,
   "id": "1a06e9d3-00e0-4149-bcdc-49a8433d04c7",
   "metadata": {},
   "outputs": [
    {
     "name": "stdout",
     "output_type": "stream",
     "text": [
      "The largest number from the list is: 690\n"
     ]
    }
   ],
   "source": [
    "list = [100, 210, 435, 450, 690]\n",
    "list.sort()\n",
    "print(\"The largest number from the list is:\", list[-1])"
   ]
  },
  {
   "cell_type": "markdown",
   "id": "1b26da7b-31c1-4bac-9b16-adc8216ff572",
   "metadata": {},
   "source": [
    "### 4. Write a Python program to get the smallest number from a list"
   ]
  },
  {
   "cell_type": "code",
   "execution_count": 17,
   "id": "a39fb151-3631-482f-ad52-428ccb178231",
   "metadata": {},
   "outputs": [
    {
     "name": "stdout",
     "output_type": "stream",
     "text": [
      "The smallest number from the list is: 100\n"
     ]
    }
   ],
   "source": [
    "list = [100, 210, 435, 450, 690]\n",
    "list.sort()\n",
    "print(\"The smallest number from the list is:\", list[0])"
   ]
  },
  {
   "cell_type": "markdown",
   "id": "2ec6c9c1-5552-429b-a860-41ebab4f142a",
   "metadata": {},
   "source": [
    "### 5. Write a Python program to count the number of characters in a string"
   ]
  },
  {
   "cell_type": "code",
   "execution_count": 22,
   "id": "2420f149-4172-4b58-a154-81b1eddab1d6",
   "metadata": {},
   "outputs": [
    {
     "name": "stdout",
     "output_type": "stream",
     "text": [
      "{'g': 2, 'o': 3, 'l': 1, 'e': 1, '.': 1, 'c': 1, 'm': 1}\n"
     ]
    }
   ],
   "source": [
    "def str_frequency(str1):\n",
    "    dict = {}\n",
    "    for n in str1:\n",
    "        keys = dict.keys()\n",
    "        if n in keys:\n",
    "            dict[n] += 1\n",
    "        else:\n",
    "            dict[n] = 1\n",
    "    return dict\n",
    "print(str_frequency('google.com'))"
   ]
  },
  {
   "cell_type": "code",
   "execution_count": 19,
   "id": "9479f17c-aed6-4933-a33c-7777130817fb",
   "metadata": {},
   "outputs": [
    {
     "name": "stdout",
     "output_type": "stream",
     "text": [
      "Total number of characters in 'google.com' is :\n",
      " Counter({'o': 3, 'g': 2, 'l': 1, 'e': 1, '.': 1, 'c': 1, 'm': 1})\n"
     ]
    }
   ],
   "source": [
    "from collections import Counter\n",
    "test_str = \"google.com\"\n",
    "res = Counter(test_str)\n",
    "print(\"Total number of characters in 'google.com' is :\\n \" + str(res))"
   ]
  },
  {
   "cell_type": "markdown",
   "id": "b967866f-2897-436c-a660-0d0dba9d91d4",
   "metadata": {},
   "source": [
    "### 6. Write a Python function that takes a list of words and returns the length of the longest one"
   ]
  },
  {
   "cell_type": "code",
   "execution_count": 27,
   "id": "e6f3d58a-2dd5-4336-9db8-d546acb0eaeb",
   "metadata": {},
   "outputs": [
    {
     "name": "stdout",
     "output_type": "stream",
     "text": [
      "The word having the longest length is Mathematics  and the length is  11\n"
     ]
    }
   ],
   "source": [
    "def longestLength(a):\n",
    "    max1 = len(a[0])\n",
    "    temp = a[0]\n",
    "    for i in a:\n",
    "        if(len(i) > max1):\n",
    "            max1 = len (i)\n",
    "            temp = i\n",
    "    print(\"The word having the longest length is\", temp, \" and the length is \", max1)\n",
    "a = [\"Geography\", \"Physics\", \"Chemistry\", \"Mathematics\"]\n",
    "longestLength(a)"
   ]
  },
  {
   "cell_type": "markdown",
   "id": "c51d5351-33d0-4688-ae1f-c7cd7a3e8cb2",
   "metadata": {},
   "source": [
    "### 7. Write a Python program to sort (ascending and descending) a dictionary by value"
   ]
  },
  {
   "cell_type": "code",
   "execution_count": 29,
   "id": "910adf2b-468e-4f1c-9850-5afe0b673c2d",
   "metadata": {},
   "outputs": [
    {
     "name": "stdout",
     "output_type": "stream",
     "text": [
      "Dictionary :  {1: 2, 3: 4, 4: 3, 2: 1, 0: 0}\n",
      "Dictionary in ascending order by value :  [(0, 0), (2, 1), (1, 2), (4, 3), (3, 4)]\n",
      "Dictionary in descending order by value :  {3: 4, 4: 3, 1: 2, 2: 1, 0: 0}\n"
     ]
    }
   ],
   "source": [
    "import operator\n",
    "d = {1: 2, 3: 4, 4: 3, 2: 1, 0: 0}\n",
    "print('Dictionary : ',d)\n",
    "sorted_d = sorted(d.items(), key=operator.itemgetter(1))\n",
    "print('Dictionary in ascending order by value : ',sorted_d)\n",
    "sorted_d = dict( sorted(d.items(), key=operator.itemgetter(1), reverse=True))\n",
    "print('Dictionary in descending order by value : ',sorted_d)"
   ]
  },
  {
   "cell_type": "markdown",
   "id": "6e09bb22-b852-446e-bbdc-82b4d9109230",
   "metadata": {},
   "source": [
    "### 8. Write a Python program to add key to a dictionary"
   ]
  },
  {
   "cell_type": "code",
   "execution_count": 37,
   "id": "e563d971-0a0d-4102-9988-6e56ea1b5287",
   "metadata": {},
   "outputs": [
    {
     "name": "stdout",
     "output_type": "stream",
     "text": [
      "Old Dictionary is: {0: 10, 1: 20}\n",
      "New Dictionary is: {0: 10, 1: 20, 2: 30}\n"
     ]
    }
   ],
   "source": [
    "dict = {0: 10, 1: 20}\n",
    "print(\"Old Dictionary is:\", dict)\n",
    "new_dict = {**dict, **{2: 30}}\n",
    "print(\"New Dictionary is:\", new_dict)"
   ]
  },
  {
   "cell_type": "markdown",
   "id": "f889c40a-46db-4b70-a847-4ecbc89ed390",
   "metadata": {},
   "source": [
    "### 9. Write a Python program to get a list, sorted in increasing order by the last element in each tuple from a given list of non-empty tuples"
   ]
  },
  {
   "cell_type": "code",
   "execution_count": 40,
   "id": "e43a6a4a-ff51-439f-b9e0-d13c938805af",
   "metadata": {},
   "outputs": [
    {
     "name": "stdout",
     "output_type": "stream",
     "text": [
      "The list is: [(20, 10), (10, 20), (20, 30), (40, 40), (20, 50)]\n"
     ]
    }
   ],
   "source": [
    "def last(n):\n",
    "    return n[-1]\n",
    "def sort_list_last(tuples):\n",
    "    return sorted(tuples, key=last)\n",
    "print(\"The list is:\",sort_list_last([(20, 50), (10, 20), (40, 40), (20, 30), (20, 10)]))"
   ]
  },
  {
   "cell_type": "markdown",
   "id": "b8f8421b-276f-44ec-9f26-a1feaaf65e5a",
   "metadata": {},
   "source": [
    "## B. Object Oriented Concepts"
   ]
  },
  {
   "cell_type": "markdown",
   "id": "c33f7103-d578-4d4c-8102-80a5e4c91f31",
   "metadata": {},
   "source": [
    "### 1. Write a Python progran to create a class representing a Circle. Include methods to calculate its area and perimeter"
   ]
  },
  {
   "cell_type": "code",
   "execution_count": 42,
   "id": "1455651c-7099-4c72-b6da-b99c52dd9965",
   "metadata": {},
   "outputs": [
    {
     "name": "stdin",
     "output_type": "stream",
     "text": [
      "Input the radius of the circle:  10\n"
     ]
    },
    {
     "name": "stdout",
     "output_type": "stream",
     "text": [
      "Area of the circle: 314.1592653589793\n",
      "Perimeter of the circle: 62.83185307179586\n"
     ]
    }
   ],
   "source": [
    "import math\n",
    "class Circle:\n",
    "    def __init__(self, radius):\n",
    "        self.radius = radius\n",
    "    def calculate_circle_area(self):\n",
    "        return math.pi * self.radius**2\n",
    "    def calculate_circle_perimeter(self):\n",
    "        return 2 * math.pi * self.radius\n",
    "radius = float(input(\"Input the radius of the circle: \"))\n",
    "circle = Circle(radius)\n",
    "area = circle.calculate_circle_area()\n",
    "perimeter = circle.calculate_circle_perimeter()\n",
    "print(\"The area of the circle:\", area)\n",
    "print(\"The perimeter of the circle:\", perimeter)"
   ]
  },
  {
   "cell_type": "markdown",
   "id": "33431d21-5838-4340-8e1b-d9d98a6b9448",
   "metadata": {},
   "source": [
    "### 2. Write a Python progran to create a person class. Include attributes like name, country, date of birth. Implement a method to determine the person's age"
   ]
  },
  {
   "cell_type": "code",
   "execution_count": 47,
   "id": "2ba83c94-3c33-466f-b342-3d241aa7892e",
   "metadata": {},
   "outputs": [
    {
     "name": "stdout",
     "output_type": "stream",
     "text": [
      "Person :\n",
      "Name: Kundan Ballav\n",
      "Country: India\n",
      "Date of Birth: 1998-05-25\n",
      "Age: 26\n"
     ]
    }
   ],
   "source": [
    "from datetime import date\n",
    "class Person:\n",
    "    def __init__(self, name, country, date_of_birth):\n",
    "        self.name = name\n",
    "        self.country = country\n",
    "        self.date_of_birth = date_of_birth\n",
    "    def calculate_age(self):\n",
    "        today = date.today()\n",
    "        age = today.year - self.date_of_birth.year\n",
    "        if today < date(today.year, self.date_of_birth.month, self.date_of_birth.day):\n",
    "            age -= 1\n",
    "        return age\n",
    "person = Person(\"Kundan Ballav\", \"India\", date(1998, 5, 25))\n",
    "print(\"Person :\")\n",
    "print(\"Name:\", person.name)\n",
    "print(\"Country:\", person.country)\n",
    "print(\"Date of Birth:\", person.date_of_birth)\n",
    "print(\"Age:\", person.calculate_age())"
   ]
  },
  {
   "cell_type": "markdown",
   "id": "0e4b6d19-4420-4ea4-82eb-2ab73920faaf",
   "metadata": {},
   "source": [
    "### 3. Write a Python program to create a calculator class. Include methods for basic arithmetic operations."
   ]
  },
  {
   "cell_type": "code",
   "execution_count": 56,
   "id": "d0cfa522-f3da-4a93-81aa-60f9150334ac",
   "metadata": {},
   "outputs": [
    {
     "name": "stdout",
     "output_type": "stream",
     "text": [
      "Addition : 17 + 13 = 30\n",
      "Subtraction : 34 - 21 = 13\n",
      "Multiplication : 4 * 3 = 12\n",
      "Division : 144 / 2 = 72.0\n"
     ]
    }
   ],
   "source": [
    "class Calculator:\n",
    "    def add(self, a, b):\n",
    "        return a + b\n",
    "    def subtract(self, a, b):\n",
    "        return a - b\n",
    "    def multiply(self, a, b):\n",
    "        return a * b\n",
    "    def divide(self, a, b):\n",
    "        return a / b\n",
    "calculator = Calculator()\n",
    "result = calculator.add(17, 13)\n",
    "print(\"Addition : 17 + 13 =\", result)\n",
    "result = calculator.subtract(34, 21)\n",
    "print(\"Subtraction : 34 - 21 =\", result)\n",
    "result = calculator.multiply(4, 3)\n",
    "print(\"Multiplication : 4 * 3 =\", result)\n",
    "result = calculator.divide(144, 2)\n",
    "print(\"Division : 144 / 2 =\", result)"
   ]
  },
  {
   "cell_type": "markdown",
   "id": "d64def28-7029-4e91-ae91-94ae19c78824",
   "metadata": {},
   "source": [
    "### 4. Write a Python program to create a class that represent a shape. Include methods to calculate its area and perimeter. Implement subclasses for different shapes like circle, triangle, and square "
   ]
  },
  {
   "cell_type": "code",
   "execution_count": 59,
   "id": "c433f728-aad7-4944-bd22-cdd3e5b6706f",
   "metadata": {},
   "outputs": [
    {
     "name": "stdout",
     "output_type": "stream",
     "text": [
      "Radius of the circle: 12\n",
      "Circle Area: 452.3893421169302\n",
      "Circle Perimeter: 75.39822368615503\n",
      "\n",
      "Rectangle: Length = 8  Width = 12\n",
      "Rectangle Area: 96\n",
      "Rectangle Perimeter: 40\n",
      "\n",
      "Triangle: Base = 7  Height = 5  side1 = 5  side2 = 4  side3 = 6\n",
      "Triangle Area: 17.5\n",
      "Triangle Perimeter: 15\n"
     ]
    }
   ],
   "source": [
    "import math\n",
    "class Shape:\n",
    "    def calculate_area(self):\n",
    "        pass\n",
    "    def calculate_perimeter(self):\n",
    "        pass\n",
    "class Circle(Shape):\n",
    "    def __init__(self, radius):\n",
    "        self.radius = radius\n",
    "    def calculate_area(self):\n",
    "        return math.pi * self.radius**2\n",
    "    def calculate_perimeter(self):\n",
    "        return 2 * math.pi * self.radius\n",
    "class Rectangle(Shape):\n",
    "    def __init__(self, length, width):\n",
    "        self.length = length\n",
    "        self.width = width\n",
    "    def calculate_area(self):\n",
    "        return self.length * self.width\n",
    "    def calculate_perimeter(self):\n",
    "        return 2 * (self.length + self.width)\n",
    "class Triangle(Shape):\n",
    "    def __init__(self, base, height, side1, side2, side3):\n",
    "        self.base = base\n",
    "        self.height = height\n",
    "        self.side1 = side1\n",
    "        self.side2 = side2\n",
    "        self.side3 = side3\n",
    "    def calculate_area(self):\n",
    "        return 0.5 * self.base * self.height\n",
    "    def calculate_perimeter(self):\n",
    "        return self.side1 + self.side2 + self.side3\n",
    "r = 12\n",
    "circle = Circle(r)\n",
    "circle_area = circle.calculate_area()\n",
    "circle_perimeter = circle.calculate_perimeter()\n",
    "\n",
    "print(\"Radius of the circle:\", r)\n",
    "print(\"Circle Area:\", circle_area)\n",
    "print(\"Circle Perimeter:\", circle_perimeter)\n",
    "\n",
    "l = 8\n",
    "w = 12\n",
    "rectangle = Rectangle(l, w)\n",
    "rectangle_area = rectangle.calculate_area()\n",
    "rectangle_perimeter = rectangle.calculate_perimeter()\n",
    "\n",
    "print(\"\\nRectangle: Length =\", l, \" Width =\", w)\n",
    "print(\"Rectangle Area:\", rectangle_area)\n",
    "print(\"Rectangle Perimeter:\", rectangle_perimeter)\n",
    "\n",
    "base = 7\n",
    "height = 5\n",
    "s1 = 5\n",
    "s2 = 4\n",
    "s3 = 6\n",
    "\n",
    "print(\"\\nTriangle: Base =\", base, \" Height =\", height, \" side1 =\", s1, \" side2 =\", s2, \" side3 =\", s3)\n",
    "triangle = Triangle(base, height, s1, s2, s3)\n",
    "triangle_area = triangle.calculate_area()\n",
    "triangle_perimeter = triangle.calculate_perimeter()\n",
    "print(\"Triangle Area:\", triangle_area)\n",
    "print(\"Triangle Perimeter:\", triangle_perimeter)"
   ]
  },
  {
   "cell_type": "markdown",
   "id": "50dea647-41bb-4156-81e8-9b29f064be43",
   "metadata": {},
   "source": [
    "### 5. Write a Python class named Student with attributes: student_name, marks. Modify the attribute values of the said class and print the original and modified values of the said attributes"
   ]
  },
  {
   "cell_type": "code",
   "execution_count": 4,
   "id": "f5c0b4ae-3676-4e19-a34f-2cb4f8ce47a9",
   "metadata": {},
   "outputs": [
    {
     "name": "stdin",
     "output_type": "stream",
     "text": [
      "Enter student name:  Kundan Ballav\n",
      "Enter student total marks:  94\n",
      "Enter student new total marks:  95\n"
     ]
    },
    {
     "name": "stdout",
     "output_type": "stream",
     "text": [
      "Student's Name:  Kundan Ballav\n",
      "Student's old total marks:  94\n",
      "Student's new total marks:  95\n"
     ]
    }
   ],
   "source": [
    "class Student_details:\n",
    "    def Original_details(self):\n",
    "        self.name = input(\"Enter student name: \")\n",
    "        self.mark = input(\"Enter student total marks: \")\n",
    "    def Modified_details(self):\n",
    "        self.oldmark= self.mark\n",
    "        self.mark = int(input(\"Enter student new total marks: \"))\n",
    "        print(\"Student's Name: \", self.name)\n",
    "        print(\"Student's old total marks: \", self.oldmark)\n",
    "        print(\"Student's new total marks: \", self.mark)\n",
    "S = Student_details()\n",
    "S.Original_details()\n",
    "S.Modified_details()   "
   ]
  },
  {
   "cell_type": "markdown",
   "id": "a5e545d3-2df8-4574-84fb-c4fd89d5a8c2",
   "metadata": {},
   "source": [
    "## C. File Handling"
   ]
  },
  {
   "cell_type": "markdown",
   "id": "4c01d36f-3002-4e39-af0f-eb3aa7c418bf",
   "metadata": {},
   "source": [
    "### 1. Write a Python program to read first n lines of a file"
   ]
  },
  {
   "cell_type": "code",
   "execution_count": 10,
   "id": "3d219abc-0755-444d-9302-b0d478e3c8fd",
   "metadata": {},
   "outputs": [
    {
     "name": "stdin",
     "output_type": "stream",
     "text": [
      "Enter N value:  1\n"
     ]
    },
    {
     "name": "stdout",
     "output_type": "stream",
     "text": [
      "The following are the first 1 Lines of the text file:\n",
      "We are learning ML using python programming organised by INDACA."
     ]
    }
   ],
   "source": [
    "inputFile = \"Week2_txtfile.txt\"\n",
    "N = int(input(\"Enter N value: \"))\n",
    "with open(inputFile, 'r') as filedata:\n",
    "    linesList= filedata.readlines()\n",
    "print(\"The following are the first\",N,\"Lines of the text file:\")\n",
    "for textline in (linesList[:N]):\n",
    "    print(textline, end ='')\n",
    "filedata.close()"
   ]
  },
  {
   "cell_type": "markdown",
   "id": "3d2e63b5-cc6c-4f4f-b821-2dd01cb926f1",
   "metadata": {},
   "source": [
    "### 2. Write a Python program to count the number of lines in a text file"
   ]
  },
  {
   "cell_type": "code",
   "execution_count": 11,
   "id": "1d110513-826d-4e0b-8350-38c3d84fa39a",
   "metadata": {},
   "outputs": [
    {
     "name": "stdout",
     "output_type": "stream",
     "text": [
      "Total Number of lines:  1\n"
     ]
    }
   ],
   "source": [
    "with open (r\"Week2_txtfile.txt\", 'r') as fp:\n",
    "    lines = len(fp.readlines())\n",
    "    print(\"Total Number of lines: \", lines)"
   ]
  },
  {
   "cell_type": "markdown",
   "id": "8e69f368-106e-493c-b487-82fcabd9debd",
   "metadata": {},
   "source": [
    "### 3. Write a Python program to get the file size of a plain file"
   ]
  },
  {
   "cell_type": "code",
   "execution_count": 31,
   "id": "10c83ed1-e3e4-48cb-9a88-93f13b200ae4",
   "metadata": {},
   "outputs": [
    {
     "name": "stdout",
     "output_type": "stream",
     "text": [
      "The file size is:  64 bytes\n"
     ]
    }
   ],
   "source": [
    "import os\n",
    "file_size = os.path.getsize('Week2_txtfile.txt')\n",
    "print(\"The file size is: \", file_size, \"bytes\") "
   ]
  },
  {
   "cell_type": "markdown",
   "id": "097fae2e-2836-404b-a15b-9a80c75273f7",
   "metadata": {},
   "source": [
    "### 4. Write a Python program to write a list to a file"
   ]
  },
  {
   "cell_type": "code",
   "execution_count": 30,
   "id": "e6a9e1c6-04e2-4b4e-98a9-35d661c018ce",
   "metadata": {},
   "outputs": [
    {
     "name": "stdout",
     "output_type": "stream",
     "text": [
      "File written successfully\n"
     ]
    }
   ],
   "source": [
    "item = ['Mango', 'Banana', 'Apple', 'Guava']\n",
    "with open('items.txt', 'w+') as f:\n",
    "    for items in item:\n",
    "        f.write('%s\\n' %items)\n",
    "    print(\"File written successfully\")\n",
    "f.close()"
   ]
  },
  {
   "cell_type": "markdown",
   "id": "5030f787-49d5-4e03-b798-54dec5da39ff",
   "metadata": {},
   "source": [
    "### 5. Write a Python program that takes a text file as input and returns the number of words of a given text file"
   ]
  },
  {
   "cell_type": "code",
   "execution_count": 33,
   "id": "4638a405-39c9-4681-910f-981e24226b81",
   "metadata": {},
   "outputs": [
    {
     "name": "stdout",
     "output_type": "stream",
     "text": [
      "10\n"
     ]
    }
   ],
   "source": [
    "def count_words(filepath):\n",
    "    with open(filepath) as f:\n",
    "        data = f.read()\n",
    "        data.replace(\",\", \" \")\n",
    "        return len(data.split(\" \"))\n",
    "print(count_words(\"Week2_txtfile.txt\"))"
   ]
  },
  {
   "cell_type": "markdown",
   "id": "0adf34fb-2645-4111-899e-8c13fcf5a4ec",
   "metadata": {},
   "source": [
    "### 6. Write a Python program to count the frequency of words in a file"
   ]
  },
  {
   "cell_type": "code",
   "execution_count": 34,
   "id": "b158b204-42cc-41aa-bd4f-28f3994265f4",
   "metadata": {},
   "outputs": [
    {
     "name": "stdout",
     "output_type": "stream",
     "text": [
      "The frequency of words in the file : Counter({'We': 1, 'are': 1, 'learning': 1, 'ML': 1, 'using': 1, 'python': 1, 'programming': 1, 'organised': 1, 'by': 1, 'INDACA.': 1})\n"
     ]
    }
   ],
   "source": [
    "from collections import Counter\n",
    "def word_count(fname):\n",
    "    with open(fname) as f:\n",
    "        return Counter(f.read().split())\n",
    "print(\"The frequency of words in the file :\",word_count(\"Week2_txtfile.txt\"))"
   ]
  }
 ],
 "metadata": {
  "kernelspec": {
   "display_name": "Python 3 (ipykernel)",
   "language": "python",
   "name": "python3"
  },
  "language_info": {
   "codemirror_mode": {
    "name": "ipython",
    "version": 3
   },
   "file_extension": ".py",
   "mimetype": "text/x-python",
   "name": "python",
   "nbconvert_exporter": "python",
   "pygments_lexer": "ipython3",
   "version": "3.12.4"
  }
 },
 "nbformat": 4,
 "nbformat_minor": 5
}
