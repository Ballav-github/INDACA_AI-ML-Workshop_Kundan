{
 "cells": [
  {
   "cell_type": "markdown",
   "id": "c213d773-8247-4335-8da8-b3805a212848",
   "metadata": {},
   "source": [
    "## Q1. Program to Convert Decimal to Binary, Octal and Hexadecimal in Python"
   ]
  },
  {
   "cell_type": "code",
   "execution_count": 13,
   "id": "ae39737d-f510-469f-9ec0-fb0839c7e478",
   "metadata": {},
   "outputs": [
    {
     "name": "stdout",
     "output_type": "stream",
     "text": [
      "The decimal value of 588 is:\n",
      "0b1001001100 in binary.\n",
      "0o1114 in octal.\n",
      "0x24c in hexadecimal.\n"
     ]
    }
   ],
   "source": [
    "#Static Input\n",
    "#Input Decimal number as 'dec'\n",
    "dec = 588\n",
    "print(\"The decimal value of\", dec, \"is:\")\n",
    "print(bin(dec), \"in binary.\")\n",
    "print(oct(dec), \"in octal.\")\n",
    "print(hex(dec), \"in hexadecimal.\")"
   ]
  },
  {
   "cell_type": "code",
   "execution_count": 14,
   "id": "8f381678-6b64-4a57-ad8a-15fa7975aeb7",
   "metadata": {},
   "outputs": [
    {
     "name": "stdin",
     "output_type": "stream",
     "text": [
      "enter a number here:  352\n"
     ]
    },
    {
     "name": "stdout",
     "output_type": "stream",
     "text": [
      "The conversation of decimal number 352 is: \n",
      "0b101100000 in binary\n",
      "0o540 in octal\n",
      "0x160 in hexadecimal\n"
     ]
    }
   ],
   "source": [
    "#User Input\n",
    "decimal = int(input('enter a number here: '))\n",
    "print (\"The conversation of decimal number\",decimal,\"is: \")\n",
    "print (bin(decimal),\"in binary\")\n",
    "print (oct(decimal),\"in octal\")\n",
    "print (hex(decimal),\"in hexadecimal\")"
   ]
  },
  {
   "cell_type": "markdown",
   "id": "92ab83bd-dbbe-47dc-a270-72d45d6aacd0",
   "metadata": {},
   "source": [
    "## Q2. Program to Compute Simple Interest in Python"
   ]
  },
  {
   "cell_type": "code",
   "execution_count": 6,
   "id": "2f7381ce-377e-4256-856e-d695e5d3cbc1",
   "metadata": {},
   "outputs": [
    {
     "name": "stdout",
     "output_type": "stream",
     "text": [
      "Simple_Interest you have to pay:  22500.0\n"
     ]
    }
   ],
   "source": [
    "#Static Input\n",
    "Principal_amount = 150000\n",
    "Time = 3\n",
    "Interest_rate = 5\n",
    "Total_Interest = (Principal_amount*Time*Interest_rate) / 100\n",
    "print(\"Simple_Interest you have to pay: \", Total_Interest)"
   ]
  },
  {
   "cell_type": "code",
   "execution_count": 22,
   "id": "65d5ac32-ce3b-4046-97d5-c9593dc9bb30",
   "metadata": {},
   "outputs": [
    {
     "name": "stdin",
     "output_type": "stream",
     "text": [
      "Enter the Principal amount : 90000\n",
      "Enter the Time period : 3\n",
      "Enter the Rate of interest : 3.5\n"
     ]
    },
    {
     "name": "stdout",
     "output_type": "stream",
     "text": [
      "The Simple interest is 9450.0\n"
     ]
    }
   ],
   "source": [
    "#User Input\n",
    "P = float(input(\"Enter the Principal amount :\"))\n",
    "T = float(input(\"Enter the Time period :\"))\n",
    "R = float(input(\"Enter the Rate of interest :\"))\n",
    "SI = (P*T*R)/100\n",
    "print('The Simple interest is', SI)"
   ]
  },
  {
   "cell_type": "markdown",
   "id": "13524d71-b285-44b4-9b1f-78797fbbf65a",
   "metadata": {},
   "source": [
    "## Q3. Python Program to Calculate the Average of Numbers in a Given List "
   ]
  },
  {
   "cell_type": "code",
   "execution_count": 35,
   "id": "871eaa32-ef82-49cf-9396-bcce3e10704d",
   "metadata": {},
   "outputs": [
    {
     "name": "stdout",
     "output_type": "stream",
     "text": [
      "Average of the list = 44.875\n"
     ]
    }
   ],
   "source": [
    "#Static Input\n",
    "#importing numpy module\n",
    "import numpy\n",
    "def Average(lst):\n",
    "    sum_of_list = 0\n",
    "    for r in range(len(lst)):\n",
    "        sum_of_list += lst[r]\n",
    "    average = sum_of_list/len(lst)\n",
    "    return average\n",
    "lst = [20, 43, 56, 40, 34, 21, 68, 77]\n",
    "average = Average(lst)\n",
    "print(\"Average of the list =\", round(Average(lst), 3))"
   ]
  },
  {
   "cell_type": "markdown",
   "id": "1ed8f612-b39f-4009-87e2-fbb8d3a97cc7",
   "metadata": {},
   "source": [
    "## Q4. Python Program to Print Sum of Negative Numbers, Positive Even Numbers and Positive Odd Numbers in a List"
   ]
  },
  {
   "cell_type": "code",
   "execution_count": 1,
   "id": "773db48e-21b5-4d25-b9f5-cbb7ec9eafa1",
   "metadata": {},
   "outputs": [
    {
     "name": "stdout",
     "output_type": "stream",
     "text": [
      "Sum of negative numbers is  -5.0\n",
      "Sum of positive even numbers is  10.0\n",
      "Sum of positive odd numbers is  69.5\n"
     ]
    }
   ],
   "source": [
    "#Static Input\n",
    "class Sumofthenumbers:\n",
    "    def Sum(self, list):\n",
    "        negative_sum = 0\n",
    "        positive_even_sum = 0\n",
    "        positive_odd_sum = 0\n",
    "        for num in list:\n",
    "            num = float(num)\n",
    "            if(num < 0):\n",
    "                negative_sum = negative_sum + num\n",
    "            else:\n",
    "                if(num % 2 == 0):\n",
    "                    positive_even_sum = positive_even_sum + num\n",
    "                else:\n",
    "                    positive_odd_sum = positive_odd_sum + num\n",
    "        print(\"Sum of negative numbers is \", negative_sum)\n",
    "        print(\"Sum of positive even numbers is \", positive_even_sum)\n",
    "        print(\"Sum of positive odd numbers is \", positive_odd_sum)\n",
    "list_num = [11.5, -1.75, 50.5, -2, 8, -0.25, -1, 2, 7.5]\n",
    "object = Sumofthenumbers()\n",
    "object.Sum(list_num)"
   ]
  },
  {
   "cell_type": "markdown",
   "id": "6013a570-ec72-4236-8a2e-1e5fc0a754aa",
   "metadata": {},
   "source": [
    "## Q5. Python Program to find Median of List"
   ]
  },
  {
   "cell_type": "code",
   "execution_count": 8,
   "id": "a634e665-c278-4e8d-8b01-9d7a1147c11c",
   "metadata": {},
   "outputs": [
    {
     "name": "stdout",
     "output_type": "stream",
     "text": [
      "The original list : [4, 5, 8, 9, 10, 17]\n",
      "Median of the list is : 8.5\n"
     ]
    }
   ],
   "source": [
    "#Static Input_1\n",
    "import statistics\n",
    "list = [4, 5, 8, 9, 10, 17]\n",
    "print(\"The original list : \" + str(list))\n",
    "result = statistics.median(list)\n",
    "print(\"Median of the list is : \" + str(result))"
   ]
  },
  {
   "cell_type": "code",
   "execution_count": 16,
   "id": "892c7839-c363-4540-9ff1-ac224ba7e4d7",
   "metadata": {},
   "outputs": [
    {
     "name": "stdout",
     "output_type": "stream",
     "text": [
      "The original list is: [1, 2, 3, 4, 5, 6, 7, 8, 9, 10]\n",
      "Median of the list is: 5.5\n"
     ]
    }
   ],
   "source": [
    "#Static Input_2\n",
    "n = len(list)\n",
    "list = [1, 2, 3, 4, 5, 6, 7, 8, 9, 10]\n",
    "list.sort()\n",
    "if n % 2 == 0:\n",
    "    median1 = list[n//2]\n",
    "    median2 = list[n//2 - 1]\n",
    "    median = (median1 + median2)/2\n",
    "else:\n",
    "    median = list[n//2]\n",
    "print(\"The original list is: \" + str(list))\n",
    "print(\"Median of the list is: \" + str(median))"
   ]
  },
  {
   "cell_type": "markdown",
   "id": "64aaa945-cf62-4b06-be3c-b8ca9db146c8",
   "metadata": {},
   "source": [
    "## Q6. Python Program to print largest even and largest odd number in a list"
   ]
  },
  {
   "cell_type": "code",
   "execution_count": 21,
   "id": "cd8df62e-7116-44ff-a233-99f945763770",
   "metadata": {},
   "outputs": [
    {
     "name": "stdout",
     "output_type": "stream",
     "text": [
      "Largest even number in the list is  10.0\n",
      "Largest odd number in the list is  7.0\n"
     ]
    }
   ],
   "source": [
    "#Static Input\n",
    "class largest_odd_and_even :\n",
    "    def largest_even(self, list):\n",
    "        curr = -1\n",
    "        for num in list:\n",
    "            num = float(num)\n",
    "            if(num % 2 == 0 and num > curr):\n",
    "                curr = num\n",
    "        print(\"Largest even number in the list is \", curr)\n",
    "    def largest_odd(self, list):\n",
    "        curr1 = -1\n",
    "        for num in list:\n",
    "            num = float(num)\n",
    "            if(num % 2 == 1 and num > curr1):\n",
    "                curr1 = num\n",
    "        print(\"Largest odd number in the list is \", curr1)\n",
    "list = [1.5, 3.8, 5.6, 8, 6.8, 7, 10]\n",
    "obj = largest_odd_and_even()\n",
    "obj.largest_even(list)\n",
    "obj.largest_odd(list)\n",
    "    "
   ]
  },
  {
   "cell_type": "markdown",
   "id": "535ae8ef-7478-478e-b742-12de60bb44dc",
   "metadata": {},
   "source": [
    "## Q7. Python program to convert Kilometres to Miles and Vice Versa"
   ]
  },
  {
   "cell_type": "code",
   "execution_count": 26,
   "id": "a54258da-e874-47a1-8c23-6447f47a4c6c",
   "metadata": {},
   "outputs": [
    {
     "name": "stdout",
     "output_type": "stream",
     "text": [
      "10 kilometres is equals to 6.213699999999999 miles. \n",
      "10 miles is equals to 16.0 kilometres. \n"
     ]
    }
   ],
   "source": [
    "#Static Input\n",
    "#kms_to_miles\n",
    "import math\n",
    "def km_to_miles(kilometrs):\n",
    "    miles = kilometres * 0.62137\n",
    "    return miles\n",
    "kilometres = 10\n",
    "miles = km_to_miles(kilometres)\n",
    "print(f\"{kilometres} kilometres is equals to {miles} miles. \")\n",
    "#miles_to_kms\n",
    "def miles_to_kms(miles):\n",
    "    kilometres = miles * 1.6\n",
    "    return kilometres\n",
    "miles = 10\n",
    "kilometres = miles_to_kms(miles)\n",
    "print(f\"{miles} miles is equals to {kilometres} kilometres. \")"
   ]
  },
  {
   "cell_type": "code",
   "execution_count": 32,
   "id": "828d5e65-2024-4be0-b56e-a1cda9b6f294",
   "metadata": {},
   "outputs": [
    {
     "name": "stdin",
     "output_type": "stream",
     "text": [
      "Enter miles:  10\n"
     ]
    },
    {
     "name": "stdout",
     "output_type": "stream",
     "text": [
      "16.0 Kilometres\n"
     ]
    },
    {
     "name": "stdin",
     "output_type": "stream",
     "text": [
      "Enter kilometres:  10\n"
     ]
    },
    {
     "name": "stdout",
     "output_type": "stream",
     "text": [
      "6.213699999999999 Miles\n"
     ]
    }
   ],
   "source": [
    "#User Input\n",
    "#miles_to_kms\n",
    "miles = float(input(\"Enter miles: \"))\n",
    "kilometres = miles * 1.6\n",
    "print(kilometres, \"Kilometres\")\n",
    "#kms_to_miles\n",
    "kilometres = float(input(\"Enter kilometres: \"))\n",
    "miles = kilometres * 0.62137\n",
    "print(miles, \"Miles\")"
   ]
  },
  {
   "cell_type": "markdown",
   "id": "e3575af3-d45a-4921-bc09-20a5a7d81223",
   "metadata": {},
   "source": [
    "## Q8. Python program to convert seconds into day, hours, minutes and seconds"
   ]
  },
  {
   "cell_type": "code",
   "execution_count": 51,
   "id": "a33e25eb-4752-46ee-ba8f-9f9a06095351",
   "metadata": {},
   "outputs": [
    {
     "name": "stdout",
     "output_type": "stream",
     "text": [
      "Days: 1 , Hours: 3 ,Minutes: 55 , Seconds: 50\n"
     ]
    }
   ],
   "source": [
    "#Static Input\n",
    "def convert_seconds (seconds) :\n",
    "    days = seconds // (24*3600)\n",
    "    seconds %= (24*3600)\n",
    "    hours = seconds // 3600\n",
    "    seconds %= 3600\n",
    "    minutes = seconds // 60\n",
    "    seconds %= 60\n",
    "    print(\"Days:\",days,\", Hours:\", hours,\",Minutes:\", minutes,\", Seconds:\", seconds)\n",
    "convert_seconds(100550)"
   ]
  },
  {
   "cell_type": "markdown",
   "id": "82dc7b9c-1c21-4dbb-8488-de9a7a53ce65",
   "metadata": {},
   "source": [
    "## Q9. Python program to read height in centimetres and then convert the height to feet and inches"
   ]
  },
  {
   "cell_type": "code",
   "execution_count": 58,
   "id": "e194f27e-fc67-4598-b9e5-1d7b0ea6bbc1",
   "metadata": {},
   "outputs": [
    {
     "name": "stdin",
     "output_type": "stream",
     "text": [
      "Enter the height in centimetres... 181\n"
     ]
    },
    {
     "name": "stdout",
     "output_type": "stream",
     "text": [
      "The length in inches is \n",
      "71.314\n",
      "The length in feet is \n",
      "5.937\n"
     ]
    }
   ],
   "source": [
    "#User Input\n",
    "in_cm=float(input(\"Enter the height in centimetres...\"))\n",
    "in_inches=0.394*in_cm\n",
    "in_feet=0.0328*in_cm\n",
    "print(\"The length in inches is \")\n",
    "print(round(in_inches,3))\n",
    "print(\"The length in feet is \")\n",
    "print(round(in_feet,3))"
   ]
  },
  {
   "cell_type": "markdown",
   "id": "cfea6cfa-c308-4b6b-a05f-c86697b8f414",
   "metadata": {},
   "source": [
    "## Q10. Python program to calculate GST"
   ]
  },
  {
   "cell_type": "code",
   "execution_count": 61,
   "id": "b867fc69-6015-470d-b877-84184ee4194e",
   "metadata": {},
   "outputs": [
    {
     "name": "stdout",
     "output_type": "stream",
     "text": [
      "GST = 20%\n"
     ]
    }
   ],
   "source": [
    "#Static Input\n",
    "def Calculate_GST(orginal_price, net_price):\n",
    "    return(((net_price - original_price) * 100) / original_price)\n",
    "original_price = 100\n",
    "net_price = 120\n",
    "print(\"GST = \",end='')\n",
    "print(round(Calculate_GST(original_price, net_price)),end='')\n",
    "print(\"%\")"
   ]
  },
  {
   "cell_type": "markdown",
   "id": "df6e8332-ff1f-4ec3-9c92-32057fced26b",
   "metadata": {},
   "source": [
    "## Q11. Python program to calculate EMI"
   ]
  },
  {
   "cell_type": "code",
   "execution_count": 62,
   "id": "87856ad8-b46d-445f-8c35-57b1515d2e64",
   "metadata": {},
   "outputs": [
    {
     "name": "stdin",
     "output_type": "stream",
     "text": [
      "Enter principal amount:  1000000\n",
      "Enter annual interest rate:  7\n",
      "Enter number of months:  120\n"
     ]
    },
    {
     "name": "stdout",
     "output_type": "stream",
     "text": [
      "Monthly EMI =  11610.847921862374\n"
     ]
    }
   ],
   "source": [
    "#User Input\n",
    "#P=Principal_amount\n",
    "#r=Rate_of_interest_per_month\n",
    "#N=Number_of_monthly_installment\n",
    "P = float(input(\"Enter principal amount: \"))\n",
    "R = float(input(\"Enter annual interest rate: \"))\n",
    "n = float(input(\"Enter number of months: \"))\n",
    "r = R/(12*100)\n",
    "EMI = P * r * ((1+r)**n) / ((1+r)**n - 1)\n",
    "print(\"Monthly EMI = \", EMI)"
   ]
  },
  {
   "cell_type": "markdown",
   "id": "8539b350-374a-48e2-a016-d5058f03622b",
   "metadata": {},
   "source": [
    "## Q12. Python program to calculate BMI"
   ]
  },
  {
   "cell_type": "code",
   "execution_count": 66,
   "id": "084f3777-eb18-41b7-8048-255ced611c5f",
   "metadata": {},
   "outputs": [
    {
     "name": "stdout",
     "output_type": "stream",
     "text": [
      "The BMI is 24.030048422109523\n"
     ]
    }
   ],
   "source": [
    "#Static Input\n",
    "def BMI(height, weight):\n",
    "      bmi = weight/(height**2)\n",
    "      return bmi\n",
    "height = 1.8246\n",
    "weight = 80\n",
    "bmi = BMI(height, weight)\n",
    "print(\"The BMI is\", bmi)"
   ]
  },
  {
   "cell_type": "markdown",
   "id": "831abf89-3eab-4f09-9286-7596c7b5228f",
   "metadata": {},
   "source": [
    "## Q13. Python program to compute Euclidean Distance"
   ]
  },
  {
   "cell_type": "code",
   "execution_count": null,
   "id": "df6a092d-2eb8-4988-8a11-d65fee5e5587",
   "metadata": {},
   "outputs": [],
   "source": []
  }
 ],
 "metadata": {
  "kernelspec": {
   "display_name": "Python 3 (ipykernel)",
   "language": "python",
   "name": "python3"
  },
  "language_info": {
   "codemirror_mode": {
    "name": "ipython",
    "version": 3
   },
   "file_extension": ".py",
   "mimetype": "text/x-python",
   "name": "python",
   "nbconvert_exporter": "python",
   "pygments_lexer": "ipython3",
   "version": "3.12.4"
  }
 },
 "nbformat": 4,
 "nbformat_minor": 5
}
